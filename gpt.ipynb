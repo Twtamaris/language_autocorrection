{
 "cells": [
  {
   "cell_type": "code",
   "execution_count": 2,
   "metadata": {},
   "outputs": [],
   "source": [
    "import ast  # Library to safely evaluate string literals as Python expressions\n",
    "\n",
    "file_path = \"dataset.txt\"  # Replace with the actual file path\n",
    "\n",
    "with open(file_path, \"r\") as file:\n",
    "    content = file.read()\n",
    "    dictionary_from_file = ast.literal_eval(content)\n",
    "\n",
    "dataset = dictionary_from_file"
   ]
  },
  {
   "cell_type": "code",
   "execution_count": 3,
   "metadata": {},
   "outputs": [
    {
     "data": {
      "text/plain": [
       "dict_keys(['Calculate the factorial of a number', 'Check if a string is a palindrome', 'Find the largest element in a list', 'Reverse a string', 'Implement a stack', 'Sort a list using bubble sort', 'Calculate the Fibonacci sequence', 'Find the common elements between two lists', 'Count the occurrence of each word in a string', 'Check if a number is prime', 'Calculate the square root of a number', 'Remove duplicates from a list', 'Find the second smallest element in a list', 'Reverse a linked list', 'Generate a random password', 'Find the intersection of two arrays', 'Calculate the area of a circle'])"
      ]
     },
     "execution_count": 3,
     "metadata": {},
     "output_type": "execute_result"
    }
   ],
   "source": [
    "dataset.keys()"
   ]
  },
  {
   "cell_type": "code",
   "execution_count": 10,
   "metadata": {},
   "outputs": [
    {
     "name": "stdout",
     "output_type": "stream",
     "text": [
      "def factorial(n):\n",
      "            if n == 0 or n == 1:\n",
      "                return 1\n",
      "            else:\n",
      "                return n * factorial(n - 1)\n",
      "        \n",
      "        print(factorial(5))  # Output: 120\n"
     ]
    }
   ],
   "source": [
    "print(dataset['Calculate the factorial of a number'])"
   ]
  },
  {
   "cell_type": "code",
   "execution_count": null,
   "metadata": {},
   "outputs": [],
   "source": []
  }
 ],
 "metadata": {
  "kernelspec": {
   "display_name": "Python 3",
   "language": "python",
   "name": "python3"
  },
  "language_info": {
   "codemirror_mode": {
    "name": "ipython",
    "version": 3
   },
   "file_extension": ".py",
   "mimetype": "text/x-python",
   "name": "python",
   "nbconvert_exporter": "python",
   "pygments_lexer": "ipython3",
   "version": "3.9.5"
  }
 },
 "nbformat": 4,
 "nbformat_minor": 2
}
