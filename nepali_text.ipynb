{
 "cells": [
  {
   "cell_type": "code",
   "execution_count": 14,
   "metadata": {},
   "outputs": [],
   "source": [
    "from sklearn.feature_extraction.text import TfidfVectorizer\n",
    "from sklearn.neighbors import NearestNeighbors\n"
   ]
  },
  {
   "cell_type": "code",
   "execution_count": 56,
   "metadata": {},
   "outputs": [
    {
     "name": "stdout",
     "output_type": "stream",
     "text": [
      "['अँगार', 'अजम्बरी', 'अठ्याउन्न', 'अचानक', 'अतीत', 'अत्याचार', 'अदालत', 'अन्न', 'अन्धकार', 'अन्धविश्वास', 'बढ्दो', 'बन्दी', 'बजार', 'बन्दना', 'चकित', 'चाँदी', 'चढ्नु', 'चामल', 'चाकरी', 'चाँडै', 'चरा', 'चाबी', 'चोट', 'चलचित्र', 'डर', 'दु:ख', 'दाहिने', 'दया', 'दाढी', 'दक्षिण', 'दयालु', 'दान', 'दशक', 'दृष्टि', 'एक्लो', 'एकता', 'एकीकरण', 'एकाएक', 'एकाान्त', 'प्रयास', 'एकाजुट', 'ऐतिहासिक', 'एकाग्रता', 'एउटा', 'फूल', 'फर्सी', 'फल', 'फर्क', 'फूलबारी', 'फर्निचर', 'फाँसी', 'फेरि', 'फोटो', 'फाल्नु', 'गीत', 'घर', 'गर्मी', 'गहिरो', 'गाई', 'गर्व', 'गाउँ', 'गणित', 'गर्भवती', 'गन्तव्य', 'हात', 'हाँस्नु', 'हार', 'हवाईजहाज', 'हात्ती', 'हँसिया', 'हजुरआमा', 'हजुरबुबा', 'हराउनु', 'हात्तीखोर', 'इतिहास', 'इच्छा', 'इन्कार', 'इन्द्रिय', 'इज्जत', 'इजलास', 'इष्ट', 'इशारा', 'इच्छुक', 'ईर्ष्या', 'जन्म', 'जवान', 'जीवन', 'जात', 'जंगल', 'जानवर', 'जमाउनु', 'जमात', 'जाली', 'जन्मदिन', 'कक्षा', 'कागज', 'कविता', 'कपडा', 'काम', 'कामना', 'कमजोर', 'कलम', 'कर्म', 'कहानी', 'लाल', 'लिख्नु', 'लामो', 'लडाइँ', 'लिङ्ग', 'लट्ठी', 'लक्ष्य', 'लक्षण', 'लडाई', 'लेखक', 'माँ', 'माछा', 'माया', 'मन्दिर', 'मन', 'मनुष्य', 'मन्त्री', 'महिला', 'मातृभूमि', 'मित्रता', 'खुकुरी', 'नाम', 'नाता', 'नाक', 'नदी', 'नृत्य', 'न्याय', 'नरक', 'नदीकिनार', 'नक्सा', 'नम्रता', 'औषधि', 'ओछ्यान', 'ओढ्नु', 'ओठ', 'ओज', 'ओखती', 'ओली', 'ओठार', 'ओझेल', 'ओझेलमा', 'पानी', 'पाप', 'पढ्नु', 'पहाड', 'पत्नी', 'पिता', 'प्रेम', 'प्रकाश', 'पृथ्वी', 'प्राणी', 'रक्त', 'राजा', 'राज्य', 'रंग', 'रोटी', 'रमाइलो', 'राम्रो', 'रुख', 'रोग', 'रोशनी', 'साथी', 'सत्य', 'सबै', 'समाज', 'समय', 'संगीत']\n"
     ]
    }
   ],
   "source": [
    "# open file nepalidataset.txt and store it in list\n",
    "\n",
    "with open('nepali_dataset.txt', 'r', encoding='utf-8') as f:\n",
    "    data = f.read()\n",
    "    words = data.split()\n",
    "\n",
    "print(words)\n",
    "    # read all the lines and keep it in list\n",
    "\n"
   ]
  },
  {
   "cell_type": "code",
   "execution_count": 57,
   "metadata": {},
   "outputs": [],
   "source": [
    "# Convert words to vectors\n",
    "vectorizer = TfidfVectorizer()\n",
    "word_vectors = vectorizer.fit_transform(words)"
   ]
  },
  {
   "cell_type": "code",
   "execution_count": 58,
   "metadata": {},
   "outputs": [
    {
     "data": {
      "text/html": [
       "<style>#sk-container-id-4 {color: black;background-color: white;}#sk-container-id-4 pre{padding: 0;}#sk-container-id-4 div.sk-toggleable {background-color: white;}#sk-container-id-4 label.sk-toggleable__label {cursor: pointer;display: block;width: 100%;margin-bottom: 0;padding: 0.3em;box-sizing: border-box;text-align: center;}#sk-container-id-4 label.sk-toggleable__label-arrow:before {content: \"▸\";float: left;margin-right: 0.25em;color: #696969;}#sk-container-id-4 label.sk-toggleable__label-arrow:hover:before {color: black;}#sk-container-id-4 div.sk-estimator:hover label.sk-toggleable__label-arrow:before {color: black;}#sk-container-id-4 div.sk-toggleable__content {max-height: 0;max-width: 0;overflow: hidden;text-align: left;background-color: #f0f8ff;}#sk-container-id-4 div.sk-toggleable__content pre {margin: 0.2em;color: black;border-radius: 0.25em;background-color: #f0f8ff;}#sk-container-id-4 input.sk-toggleable__control:checked~div.sk-toggleable__content {max-height: 200px;max-width: 100%;overflow: auto;}#sk-container-id-4 input.sk-toggleable__control:checked~label.sk-toggleable__label-arrow:before {content: \"▾\";}#sk-container-id-4 div.sk-estimator input.sk-toggleable__control:checked~label.sk-toggleable__label {background-color: #d4ebff;}#sk-container-id-4 div.sk-label input.sk-toggleable__control:checked~label.sk-toggleable__label {background-color: #d4ebff;}#sk-container-id-4 input.sk-hidden--visually {border: 0;clip: rect(1px 1px 1px 1px);clip: rect(1px, 1px, 1px, 1px);height: 1px;margin: -1px;overflow: hidden;padding: 0;position: absolute;width: 1px;}#sk-container-id-4 div.sk-estimator {font-family: monospace;background-color: #f0f8ff;border: 1px dotted black;border-radius: 0.25em;box-sizing: border-box;margin-bottom: 0.5em;}#sk-container-id-4 div.sk-estimator:hover {background-color: #d4ebff;}#sk-container-id-4 div.sk-parallel-item::after {content: \"\";width: 100%;border-bottom: 1px solid gray;flex-grow: 1;}#sk-container-id-4 div.sk-label:hover label.sk-toggleable__label {background-color: #d4ebff;}#sk-container-id-4 div.sk-serial::before {content: \"\";position: absolute;border-left: 1px solid gray;box-sizing: border-box;top: 0;bottom: 0;left: 50%;z-index: 0;}#sk-container-id-4 div.sk-serial {display: flex;flex-direction: column;align-items: center;background-color: white;padding-right: 0.2em;padding-left: 0.2em;position: relative;}#sk-container-id-4 div.sk-item {position: relative;z-index: 1;}#sk-container-id-4 div.sk-parallel {display: flex;align-items: stretch;justify-content: center;background-color: white;position: relative;}#sk-container-id-4 div.sk-item::before, #sk-container-id-4 div.sk-parallel-item::before {content: \"\";position: absolute;border-left: 1px solid gray;box-sizing: border-box;top: 0;bottom: 0;left: 50%;z-index: -1;}#sk-container-id-4 div.sk-parallel-item {display: flex;flex-direction: column;z-index: 1;position: relative;background-color: white;}#sk-container-id-4 div.sk-parallel-item:first-child::after {align-self: flex-end;width: 50%;}#sk-container-id-4 div.sk-parallel-item:last-child::after {align-self: flex-start;width: 50%;}#sk-container-id-4 div.sk-parallel-item:only-child::after {width: 0;}#sk-container-id-4 div.sk-dashed-wrapped {border: 1px dashed gray;margin: 0 0.4em 0.5em 0.4em;box-sizing: border-box;padding-bottom: 0.4em;background-color: white;}#sk-container-id-4 div.sk-label label {font-family: monospace;font-weight: bold;display: inline-block;line-height: 1.2em;}#sk-container-id-4 div.sk-label-container {text-align: center;}#sk-container-id-4 div.sk-container {/* jupyter's `normalize.less` sets `[hidden] { display: none; }` but bootstrap.min.css set `[hidden] { display: none !important; }` so we also need the `!important` here to be able to override the default hidden behavior on the sphinx rendered scikit-learn.org. See: https://github.com/scikit-learn/scikit-learn/issues/21755 */display: inline-block !important;position: relative;}#sk-container-id-4 div.sk-text-repr-fallback {display: none;}</style><div id=\"sk-container-id-4\" class=\"sk-top-container\"><div class=\"sk-text-repr-fallback\"><pre>NearestNeighbors(metric=&#x27;euclidean&#x27;, n_neighbors=3)</pre><b>In a Jupyter environment, please rerun this cell to show the HTML representation or trust the notebook. <br />On GitHub, the HTML representation is unable to render, please try loading this page with nbviewer.org.</b></div><div class=\"sk-container\" hidden><div class=\"sk-item\"><div class=\"sk-estimator sk-toggleable\"><input class=\"sk-toggleable__control sk-hidden--visually\" id=\"sk-estimator-id-4\" type=\"checkbox\" checked><label for=\"sk-estimator-id-4\" class=\"sk-toggleable__label sk-toggleable__label-arrow\">NearestNeighbors</label><div class=\"sk-toggleable__content\"><pre>NearestNeighbors(metric=&#x27;euclidean&#x27;, n_neighbors=3)</pre></div></div></div></div></div>"
      ],
      "text/plain": [
       "NearestNeighbors(metric='euclidean', n_neighbors=3)"
      ]
     },
     "execution_count": 58,
     "metadata": {},
     "output_type": "execute_result"
    }
   ],
   "source": [
    "# Create KNN model\n",
    "knn_model = NearestNeighbors(n_neighbors=3, metric='euclidean')\n",
    "knn_model.fit(word_vectors)"
   ]
  },
  {
   "cell_type": "code",
   "execution_count": 59,
   "metadata": {},
   "outputs": [
    {
     "name": "stdout",
     "output_type": "stream",
     "text": [
      "Nearest words: ['अँगार', 'चाँदी', 'चाँडै']\n"
     ]
    }
   ],
   "source": [
    "input_word = input(\"Enter a word: \")\n",
    "input_vector = vectorizer.transform([input_word])  # Put 'input_word' in a list\n",
    "# Find nearest neighbors\n",
    "distances, indices = knn_model.kneighbors(input_vector)\n",
    "\n",
    "# Print nearest words\n",
    "nearest_words = [words[idx] for idx in indices.flatten()]\n",
    "print(\"Nearest words:\", nearest_words)\n"
   ]
  },
  {
   "cell_type": "code",
   "execution_count": 62,
   "metadata": {},
   "outputs": [
    {
     "name": "stdout",
     "output_type": "stream",
     "text": [
      "Nearest words: ['अँगार', 'चाँदी', 'चाँडै']\n"
     ]
    }
   ],
   "source": [
    "from sklearn.feature_extraction.text import TfidfVectorizer\n",
    "from sklearn.neighbors import NearestNeighbors\n",
    "\n",
    "# Read the Nepali dataset\n",
    "with open('nepali_dataset.txt', 'r', encoding='utf-8') as f:\n",
    "    data = f.read()\n",
    "\n",
    "# Split the Nepali text into words using whitespace as a separator\n",
    "words = data.split()\n",
    "\n",
    "# Convert words to vectors\n",
    "vectorizer = TfidfVectorizer()\n",
    "word_vectors = vectorizer.fit_transform(words)\n",
    "\n",
    "# Create KNN model\n",
    "knn_model = NearestNeighbors(n_neighbors=3, metric='euclidean')\n",
    "knn_model.fit(word_vectors)\n",
    "\n",
    "input_word = input(\"Enter a word: \")\n",
    "\n",
    "# Convert the input word to match the dataset's tokenization\n",
    "input_word_normalized = input_word.strip()  # You may need additional normalization steps here\n",
    "\n",
    "input_vector = vectorizer.transform([input_word_normalized])  # Put 'input_word' in a list\n",
    "\n",
    "# Find nearest neighbors\n",
    "distances, indices = knn_model.kneighbors(input_vector)\n",
    "\n",
    "# Print nearest words\n",
    "nearest_words = [words[idx] for idx in indices.flatten()]\n",
    "print(\"Nearest words:\", nearest_words)\n"
   ]
  }
 ],
 "metadata": {
  "kernelspec": {
   "display_name": "Python 3",
   "language": "python",
   "name": "python3"
  },
  "language_info": {
   "codemirror_mode": {
    "name": "ipython",
    "version": 3
   },
   "file_extension": ".py",
   "mimetype": "text/x-python",
   "name": "python",
   "nbconvert_exporter": "python",
   "pygments_lexer": "ipython3",
   "version": "3.9.5"
  }
 },
 "nbformat": 4,
 "nbformat_minor": 2
}
