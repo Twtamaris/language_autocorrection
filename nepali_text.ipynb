{
 "cells": [
  {
   "cell_type": "code",
   "execution_count": 14,
   "metadata": {},
   "outputs": [],
   "source": [
    "from sklearn.feature_extraction.text import TfidfVectorizer\n",
    "from sklearn.neighbors import NearestNeighbors\n"
   ]
  },
  {
   "cell_type": "code",
   "execution_count": 15,
   "metadata": {},
   "outputs": [
    {
     "name": "stdout",
     "output_type": "stream",
     "text": [
      "['अँगार', 'अजम्बरी', 'अठ्याउन्न', 'अचानक', 'अतीत', 'अत्याचार', 'अदालत', 'अन्न', 'अन्धकार', 'अन्धविश्वास', 'बढ्दो', 'बन्दी', 'बजार', 'बन्दना', 'चकित', 'चाँदी', 'चढ्नु', 'चामल', 'चाकरी', 'चाँडै', 'चरा', 'चाबी', 'चोट', 'चलचित्र', 'डर', 'दु:ख', 'दाहिने', 'दया', 'दाढी', 'दक्षिण', 'दयालु', 'दान', 'दशक', 'दृष्टि', 'एक्लो', 'एकता', 'एकीकरण', 'एकाएक', 'एकाान्त', 'प्रयास', 'एकाजुट', 'ऐतिहासिक', 'एकाग्रता', 'एउटा', 'फूल', 'फर्सी', 'फल', 'फर्क', 'फूलबारी', 'फर्निचर', 'फाँसी', 'फेरि', 'फोटो', 'फाल्नु', 'गीत', 'घर', 'गर्मी', 'गहिरो', 'गाई', 'गर्व', 'गाउँ', 'गणित', 'गर्भवती', 'गन्तव्य', 'हात', 'हाँस्नु', 'हार', 'हवाईजहाज', 'हात्ती', 'हँसिया', 'हजुरआमा', 'हजुरबुबा', 'हराउनु', 'हात्तीखोर', 'इतिहास', 'इच्छा', 'इन्कार', 'इन्द्रिय', 'इज्जत', 'इजलास', 'इष्ट', 'इशारा', 'इच्छुक', 'ईर्ष्या', 'जन्म', 'जवान', 'जीवन', 'जात', 'जंगल', 'जानवर', 'जमाउनु', 'जमात', 'जाली', 'जन्मदिन', 'कक्षा', 'कागज', 'कविता', 'कपडा', 'काम', 'कामना', 'कमजोर', 'कलम', 'कर्म', 'कहानी', 'लाल', 'लिख्नु', 'लामो', 'लडाइँ', 'लिङ्ग', 'लट्ठी', 'लक्ष्य', 'लक्षण', 'लडाई', 'लेखक', 'माँ', 'माछा', 'माया', 'मन्दिर', 'मन', 'मनुष्य', 'मन्त्री', 'महिला', 'मातृभूमि', 'मित्रता', 'नाम', 'नाता', 'नाक', 'नदी', 'नृत्य', 'न्याय', 'नरक', 'नदीकिनार', 'नक्सा', 'नम्रता', 'औषधि', 'ओछ्यान', 'ओढ्नु', 'ओठ', 'ओज', 'ओखती', 'ओली', 'ओठार', 'ओझेल', 'ओझेलमा', 'पानी', 'पाप', 'पढ्नु', 'पहाड', 'पत्नी', 'पिता', 'प्रेम', 'प्रकाश', 'पृथ्वी', 'प्राणी', 'रक्त', 'राजा', 'राज्य', 'रंग', 'रोटी', 'रमाइलो', 'राम्रो', 'रुख', 'रोग', 'रोशनी', 'साथी', 'सत्य', 'सबै', 'समाज', 'समय', 'संगीत', 'खुकुरी']\n"
     ]
    }
   ],
   "source": [
    "# open file nepalidataset.txt and store it in list\n",
    "\n",
    "with open('nepali_dataset.txt', 'r', encoding='utf-8') as f:\n",
    "    data = f.read()\n",
    "    words = data.split()\n",
    "\n",
    "print(words)\n",
    "    # read all the lines and keep it in list\n",
    "\n"
   ]
  },
  {
   "cell_type": "code",
   "execution_count": 16,
   "metadata": {},
   "outputs": [],
   "source": [
    "# Convert words to vectors\n",
    "vectorizer = TfidfVectorizer()\n",
    "word_vectors = vectorizer.fit_transform(words)"
   ]
  },
  {
   "cell_type": "code",
   "execution_count": 17,
   "metadata": {},
   "outputs": [
    {
     "data": {
      "text/html": [
       "<style>#sk-container-id-3 {color: black;background-color: white;}#sk-container-id-3 pre{padding: 0;}#sk-container-id-3 div.sk-toggleable {background-color: white;}#sk-container-id-3 label.sk-toggleable__label {cursor: pointer;display: block;width: 100%;margin-bottom: 0;padding: 0.3em;box-sizing: border-box;text-align: center;}#sk-container-id-3 label.sk-toggleable__label-arrow:before {content: \"▸\";float: left;margin-right: 0.25em;color: #696969;}#sk-container-id-3 label.sk-toggleable__label-arrow:hover:before {color: black;}#sk-container-id-3 div.sk-estimator:hover label.sk-toggleable__label-arrow:before {color: black;}#sk-container-id-3 div.sk-toggleable__content {max-height: 0;max-width: 0;overflow: hidden;text-align: left;background-color: #f0f8ff;}#sk-container-id-3 div.sk-toggleable__content pre {margin: 0.2em;color: black;border-radius: 0.25em;background-color: #f0f8ff;}#sk-container-id-3 input.sk-toggleable__control:checked~div.sk-toggleable__content {max-height: 200px;max-width: 100%;overflow: auto;}#sk-container-id-3 input.sk-toggleable__control:checked~label.sk-toggleable__label-arrow:before {content: \"▾\";}#sk-container-id-3 div.sk-estimator input.sk-toggleable__control:checked~label.sk-toggleable__label {background-color: #d4ebff;}#sk-container-id-3 div.sk-label input.sk-toggleable__control:checked~label.sk-toggleable__label {background-color: #d4ebff;}#sk-container-id-3 input.sk-hidden--visually {border: 0;clip: rect(1px 1px 1px 1px);clip: rect(1px, 1px, 1px, 1px);height: 1px;margin: -1px;overflow: hidden;padding: 0;position: absolute;width: 1px;}#sk-container-id-3 div.sk-estimator {font-family: monospace;background-color: #f0f8ff;border: 1px dotted black;border-radius: 0.25em;box-sizing: border-box;margin-bottom: 0.5em;}#sk-container-id-3 div.sk-estimator:hover {background-color: #d4ebff;}#sk-container-id-3 div.sk-parallel-item::after {content: \"\";width: 100%;border-bottom: 1px solid gray;flex-grow: 1;}#sk-container-id-3 div.sk-label:hover label.sk-toggleable__label {background-color: #d4ebff;}#sk-container-id-3 div.sk-serial::before {content: \"\";position: absolute;border-left: 1px solid gray;box-sizing: border-box;top: 0;bottom: 0;left: 50%;z-index: 0;}#sk-container-id-3 div.sk-serial {display: flex;flex-direction: column;align-items: center;background-color: white;padding-right: 0.2em;padding-left: 0.2em;position: relative;}#sk-container-id-3 div.sk-item {position: relative;z-index: 1;}#sk-container-id-3 div.sk-parallel {display: flex;align-items: stretch;justify-content: center;background-color: white;position: relative;}#sk-container-id-3 div.sk-item::before, #sk-container-id-3 div.sk-parallel-item::before {content: \"\";position: absolute;border-left: 1px solid gray;box-sizing: border-box;top: 0;bottom: 0;left: 50%;z-index: -1;}#sk-container-id-3 div.sk-parallel-item {display: flex;flex-direction: column;z-index: 1;position: relative;background-color: white;}#sk-container-id-3 div.sk-parallel-item:first-child::after {align-self: flex-end;width: 50%;}#sk-container-id-3 div.sk-parallel-item:last-child::after {align-self: flex-start;width: 50%;}#sk-container-id-3 div.sk-parallel-item:only-child::after {width: 0;}#sk-container-id-3 div.sk-dashed-wrapped {border: 1px dashed gray;margin: 0 0.4em 0.5em 0.4em;box-sizing: border-box;padding-bottom: 0.4em;background-color: white;}#sk-container-id-3 div.sk-label label {font-family: monospace;font-weight: bold;display: inline-block;line-height: 1.2em;}#sk-container-id-3 div.sk-label-container {text-align: center;}#sk-container-id-3 div.sk-container {/* jupyter's `normalize.less` sets `[hidden] { display: none; }` but bootstrap.min.css set `[hidden] { display: none !important; }` so we also need the `!important` here to be able to override the default hidden behavior on the sphinx rendered scikit-learn.org. See: https://github.com/scikit-learn/scikit-learn/issues/21755 */display: inline-block !important;position: relative;}#sk-container-id-3 div.sk-text-repr-fallback {display: none;}</style><div id=\"sk-container-id-3\" class=\"sk-top-container\"><div class=\"sk-text-repr-fallback\"><pre>NearestNeighbors(metric=&#x27;euclidean&#x27;, n_neighbors=3)</pre><b>In a Jupyter environment, please rerun this cell to show the HTML representation or trust the notebook. <br />On GitHub, the HTML representation is unable to render, please try loading this page with nbviewer.org.</b></div><div class=\"sk-container\" hidden><div class=\"sk-item\"><div class=\"sk-estimator sk-toggleable\"><input class=\"sk-toggleable__control sk-hidden--visually\" id=\"sk-estimator-id-3\" type=\"checkbox\" checked><label for=\"sk-estimator-id-3\" class=\"sk-toggleable__label sk-toggleable__label-arrow\">NearestNeighbors</label><div class=\"sk-toggleable__content\"><pre>NearestNeighbors(metric=&#x27;euclidean&#x27;, n_neighbors=3)</pre></div></div></div></div></div>"
      ],
      "text/plain": [
       "NearestNeighbors(metric='euclidean', n_neighbors=3)"
      ]
     },
     "execution_count": 17,
     "metadata": {},
     "output_type": "execute_result"
    }
   ],
   "source": [
    "# Create KNN model\n",
    "knn_model = NearestNeighbors(n_neighbors=3, metric='euclidean')\n",
    "knn_model.fit(word_vectors)"
   ]
  },
  {
   "cell_type": "code",
   "execution_count": 19,
   "metadata": {},
   "outputs": [
    {
     "name": "stdout",
     "output_type": "stream",
     "text": [
      "Nearest words: ['अँगार', 'चाँदी', 'चाँडै']\n"
     ]
    }
   ],
   "source": [
    "input_word = input(\"Enter a word: \")\n",
    "input_vector = vectorizer.transform([input_word])  # Put 'input_word' in a list\n",
    "# Find nearest neighbors\n",
    "distances, indices = knn_model.kneighbors(input_vector)\n",
    "\n",
    "# Print nearest words\n",
    "nearest_words = [words[idx] for idx in indices.flatten()]\n",
    "print(\"Nearest words:\", nearest_words)\n"
   ]
  },
  {
   "cell_type": "code",
   "execution_count": 38,
   "metadata": {},
   "outputs": [
    {
     "ename": "ModuleNotFoundError",
     "evalue": "No module named 'fasttext'",
     "output_type": "error",
     "traceback": [
      "\u001b[1;31m---------------------------------------------------------------------------\u001b[0m",
      "\u001b[1;31mModuleNotFoundError\u001b[0m                       Traceback (most recent call last)",
      "Input \u001b[1;32mIn [38]\u001b[0m, in \u001b[0;36m<cell line: 1>\u001b[1;34m()\u001b[0m\n\u001b[1;32m----> 1\u001b[0m \u001b[38;5;28;01mimport\u001b[39;00m \u001b[38;5;21;01mfasttext\u001b[39;00m\u001b[38;5;21;01m.\u001b[39;00m\u001b[38;5;21;01mutil\u001b[39;00m\n\u001b[0;32m      2\u001b[0m \u001b[38;5;28;01mfrom\u001b[39;00m \u001b[38;5;21;01msklearn\u001b[39;00m\u001b[38;5;21;01m.\u001b[39;00m\u001b[38;5;21;01mneighbors\u001b[39;00m \u001b[38;5;28;01mimport\u001b[39;00m NearestNeighbors\n\u001b[0;32m      4\u001b[0m \u001b[38;5;66;03m# Load FastText model for Nepali\u001b[39;00m\n",
      "\u001b[1;31mModuleNotFoundError\u001b[0m: No module named 'fasttext'"
     ]
    }
   ],
   "source": [
    "import fasttext.util\n",
    "from sklearn.neighbors import NearestNeighbors\n",
    "\n",
    "# Load FastText model for Nepali\n",
    "ft = fasttext.load_model('cc.ne.300.bin')\n",
    "\n",
    "# Get vectors for all words\n",
    "word_vectors = [ft.get_word_vector(w) for w in words]\n",
    "\n",
    "# Create KNN model\n",
    "knn_model = NearestNeighbors(n_neighbors=3, metric='euclidean')\n",
    "knn_model.fit(word_vectors)\n",
    "\n",
    "# Get vector for input word\n",
    "input_word = input(\"Enter a word: \")\n",
    "input_vector = [ft.get_word_vector(input_word)]\n",
    "\n",
    "# Find nearest neighbors\n",
    "distances, indices = knn_model.kneighbors(input_vector)\n",
    "\n",
    "# Print nearest words\n",
    "nearest_words = [words[idx] for idx in indices.flatten()]\n",
    "print(\"Nearest words:\", nearest_words)\n"
   ]
  },
  {
   "cell_type": "code",
   "execution_count": 37,
   "metadata": {},
   "outputs": [
    {
     "name": "stdout",
     "output_type": "stream",
     "text": [
      "Collecting fasttext\n",
      "  Using cached fasttext-0.9.2.tar.gz (68 kB)\n",
      "  Preparing metadata (setup.py): started\n",
      "  Preparing metadata (setup.py): finished with status 'done'\n",
      "Requirement already satisfied: pybind11>=2.2 in c:\\users\\baral\\appdata\\local\\programs\\python\\python39\\lib\\site-packages (from fasttext) (2.11.1)\n",
      "Requirement already satisfied: setuptools>=0.7.0 in c:\\users\\baral\\appdata\\local\\programs\\python\\python39\\lib\\site-packages (from fasttext) (56.0.0)\n",
      "Requirement already satisfied: numpy in c:\\users\\baral\\appdata\\local\\programs\\python\\python39\\lib\\site-packages (from fasttext) (1.23.5)\n",
      "Building wheels for collected packages: fasttext\n",
      "  Building wheel for fasttext (setup.py): started\n",
      "  Building wheel for fasttext (setup.py): finished with status 'error'\n",
      "  Running setup.py clean for fasttext\n",
      "Failed to build fasttext\n"
     ]
    },
    {
     "name": "stderr",
     "output_type": "stream",
     "text": [
      "WARNING: Ignoring invalid distribution - (c:\\users\\baral\\appdata\\local\\programs\\python\\python39\\lib\\site-packages)\n",
      "WARNING: Ignoring invalid distribution -ensorflow-intel (c:\\users\\baral\\appdata\\local\\programs\\python\\python39\\lib\\site-packages)\n",
      "WARNING: Ignoring invalid distribution -pencv-python (c:\\users\\baral\\appdata\\local\\programs\\python\\python39\\lib\\site-packages)\n",
      "WARNING: Ignoring invalid distribution -rotobuf (c:\\users\\baral\\appdata\\local\\programs\\python\\python39\\lib\\site-packages)\n",
      "  error: subprocess-exited-with-error\n",
      "  \n",
      "  × python setup.py bdist_wheel did not run successfully.\n",
      "  │ exit code: 1\n",
      "  ╰─> [20 lines of output]\n",
      "      c:\\users\\baral\\appdata\\local\\programs\\python\\python39\\lib\\site-packages\\setuptools\\dist.py:642: UserWarning: Usage of dash-separated 'description-file' will not be supported in future versions. Please use the underscore name 'description_file' instead\n",
      "        warnings.warn(\n",
      "      running bdist_wheel\n",
      "      running build\n",
      "      running build_py\n",
      "      creating build\n",
      "      creating build\\lib.win-amd64-3.9\n",
      "      creating build\\lib.win-amd64-3.9\\fasttext\n",
      "      copying python\\fasttext_module\\fasttext\\FastText.py -> build\\lib.win-amd64-3.9\\fasttext\n",
      "      copying python\\fasttext_module\\fasttext\\__init__.py -> build\\lib.win-amd64-3.9\\fasttext\n",
      "      creating build\\lib.win-amd64-3.9\\fasttext\\util\n",
      "      copying python\\fasttext_module\\fasttext\\util\\util.py -> build\\lib.win-amd64-3.9\\fasttext\\util\n",
      "      copying python\\fasttext_module\\fasttext\\util\\__init__.py -> build\\lib.win-amd64-3.9\\fasttext\\util\n",
      "      creating build\\lib.win-amd64-3.9\\fasttext\\tests\n",
      "      copying python\\fasttext_module\\fasttext\\tests\\test_configurations.py -> build\\lib.win-amd64-3.9\\fasttext\\tests\n",
      "      copying python\\fasttext_module\\fasttext\\tests\\test_script.py -> build\\lib.win-amd64-3.9\\fasttext\\tests\n",
      "      copying python\\fasttext_module\\fasttext\\tests\\__init__.py -> build\\lib.win-amd64-3.9\\fasttext\\tests\n",
      "      running build_ext\n",
      "      building 'fasttext_pybind' extension\n",
      "      error: Microsoft Visual C++ 14.0 or greater is required. Get it with \"Microsoft C++ Build Tools\": https://visualstudio.microsoft.com/visual-cpp-build-tools/\n",
      "      [end of output]\n",
      "  \n",
      "  note: This error originates from a subprocess, and is likely not a problem with pip.\n",
      "  ERROR: Failed building wheel for fasttext\n",
      "ERROR: Could not build wheels for fasttext, which is required to install pyproject.toml-based projects\n",
      "\n",
      "[notice] A new release of pip is available: 23.1.2 -> 23.3.1\n",
      "[notice] To update, run: c:\\users\\baral\\appdata\\local\\programs\\python\\python39\\python.exe -m pip install --upgrade pip\n"
     ]
    }
   ],
   "source": [
    "!pip install fasttext\n"
   ]
  }
 ],
 "metadata": {
  "kernelspec": {
   "display_name": "Python 3",
   "language": "python",
   "name": "python3"
  },
  "language_info": {
   "codemirror_mode": {
    "name": "ipython",
    "version": 3
   },
   "file_extension": ".py",
   "mimetype": "text/x-python",
   "name": "python",
   "nbconvert_exporter": "python",
   "pygments_lexer": "ipython3",
   "version": "3.9.5"
  }
 },
 "nbformat": 4,
 "nbformat_minor": 2
}
